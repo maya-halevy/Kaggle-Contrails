{
  "cells": [
    {
      "cell_type": "markdown",
      "metadata": {
        "id": "view-in-github",
        "colab_type": "text"
      },
      "source": [
        "<a href=\"https://colab.research.google.com/github/maya-halevy/Kaggle-Contrails/blob/main/trails_eda_M2.ipynb\" target=\"_parent\"><img src=\"https://colab.research.google.com/assets/colab-badge.svg\" alt=\"Open In Colab\"/></a>"
      ]
    },
    {
      "cell_type": "code",
      "execution_count": null,
      "metadata": {
        "_cell_guid": "b1076dfc-b9ad-4769-8c92-a6c4dae69d19",
        "_uuid": "8f2839f25d086af736a60e9eeb907d3b93b6e0e5",
        "execution": {
          "iopub.execute_input": "2023-06-17T14:59:02.588925Z",
          "iopub.status.busy": "2023-06-17T14:59:02.587885Z",
          "iopub.status.idle": "2023-06-17T14:59:02.597373Z",
          "shell.execute_reply": "2023-06-17T14:59:02.596304Z",
          "shell.execute_reply.started": "2023-06-17T14:59:02.588882Z"
        },
        "trusted": true,
        "id": "YrvzdZhdBZs7"
      },
      "outputs": [],
      "source": [
        "# # This Python 3 environment comes with many helpful analytics libraries installed\n",
        "# # It is defined by the kaggle/python Docker image: https://github.com/kaggle/docker-python\n",
        "# # For example, here's several helpful packages to load\n",
        "\n",
        "# import numpy as np # linear algebra\n",
        "# import pandas as pd # data processing, CSV file I/O (e.g. pd.read_csv)\n",
        "\n",
        "# # Input data files are available in the read-only \"../input/\" directory\n",
        "# # For example, running this (by clicking run or pressing Shift+Enter) will list all files under the input directory\n",
        "\n",
        "# import os\n",
        "# for dirname, _, filenames in os.walk('/kaggle/input'):\n",
        "#     for filename in filenames:\n",
        "#         print(os.path.join(dirname, filename))\n",
        "\n",
        "# # You can write up to 20GB to the current directory (/kaggle/working/) that gets preserved as output when you create a version using \"Save & Run All\"\n",
        "# # You can also write temporary files to /kaggle/temp/, but they won't be saved outside of the current session"
      ]
    },
    {
      "cell_type": "code",
      "source": [
        "from google.colab import drive\n",
        "drive.mount('/content/drive')"
      ],
      "metadata": {
        "colab": {
          "base_uri": "https://localhost:8080/"
        },
        "id": "gv2UQ64lBvAM",
        "outputId": "24596d9e-e717-4d58-ebfd-c9b2b3844a10"
      },
      "execution_count": 3,
      "outputs": [
        {
          "output_type": "stream",
          "name": "stdout",
          "text": [
            "Mounted at /content/drive\n"
          ]
        }
      ]
    },
    {
      "cell_type": "code",
      "execution_count": 4,
      "metadata": {
        "execution": {
          "iopub.execute_input": "2023-06-17T14:59:02.611407Z",
          "iopub.status.busy": "2023-06-17T14:59:02.610060Z",
          "iopub.status.idle": "2023-06-17T14:59:04.429265Z",
          "shell.execute_reply": "2023-06-17T14:59:04.428050Z",
          "shell.execute_reply.started": "2023-06-17T14:59:02.611370Z"
        },
        "trusted": true,
        "id": "bYVz7rqnBZs9"
      },
      "outputs": [],
      "source": [
        "import numpy as np\n",
        "import os\n",
        "import matplotlib.pyplot as plt\n",
        "import seaborn as sns\n",
        "import glob\n",
        "import plotly.graph_objects as go\n",
        "from sklearn.metrics.pairwise import cosine_similarity\n",
        "from tqdm import tqdm\n",
        "from scipy.stats import pearsonr\n",
        "import pandas as pd\n",
        "from scipy.stats import spearmanr\n"
      ]
    },
    {
      "cell_type": "code",
      "execution_count": 5,
      "metadata": {
        "execution": {
          "iopub.execute_input": "2023-06-17T14:59:04.438432Z",
          "iopub.status.busy": "2023-06-17T14:59:04.435513Z",
          "iopub.status.idle": "2023-06-17T14:59:04.445371Z",
          "shell.execute_reply": "2023-06-17T14:59:04.444273Z",
          "shell.execute_reply.started": "2023-06-17T14:59:04.438390Z"
        },
        "trusted": true,
        "id": "wzegOUebBZs-"
      },
      "outputs": [],
      "source": [
        "# SET PATHS!!!!\n",
        "\n",
        "PATH_train_fifth_sample = '/content/drive/MyDrive/contrails_data/train_xs/1026930305418425156/band_12.npy'\n",
        "PATH_mask_human_fifth_sample = '/content/drive/MyDrive/contrails_data/train_xs/1026930305418425156/human_individual_masks.npy'\n",
        "PATH_mask_auto_fifth_sample = 'content/drive/MyDrive/contrails_data/train_xs/1026930305418425156/human_pixel_masks.npy'\n",
        "one_sample_folder_path = '/content/drive/MyDrive/contrails_data/train_xs/1026930305418425156'\n",
        "\n",
        "# Set the path to the train folder\n",
        "train_folder = '/content/drive/MyDrive/contrails_data/train_xs'\n",
        "\n"
      ]
    },
    {
      "cell_type": "markdown",
      "source": [
        "## check size of the dataset"
      ],
      "metadata": {
        "id": "LcMC0uUwIEoz"
      }
    },
    {
      "cell_type": "code",
      "source": [
        "def count_folders(subfolder_path):\n",
        "    \"\"\"\n",
        "    Counts the number of folders within a subfolder and prints the count.\n",
        "\n",
        "    Args:\n",
        "        subfolder_path (str): Path to the subfolder.\n",
        "    \"\"\"\n",
        "    if not os.path.isdir(subfolder_path):\n",
        "        raise ValueError(\"Invalid subfolder path.\")\n",
        "\n",
        "    count = 0\n",
        "    for item_name in os.listdir(subfolder_path):\n",
        "        item_path = os.path.join(subfolder_path, item_name)\n",
        "        if os.path.isdir(item_path):\n",
        "            count += 1\n",
        "\n",
        "    print(\"Number of folders:\", count)"
      ],
      "metadata": {
        "id": "rHlVQKJ8H-r2"
      },
      "execution_count": 6,
      "outputs": []
    },
    {
      "cell_type": "code",
      "source": [
        "count_folders(train_folder)"
      ],
      "metadata": {
        "colab": {
          "base_uri": "https://localhost:8080/"
        },
        "id": "wK60NiboIK9I",
        "outputId": "8591cda8-6c96-4f01-9150-505a94854876"
      },
      "execution_count": 7,
      "outputs": [
        {
          "output_type": "stream",
          "name": "stdout",
          "text": [
            "Number of folders: 514\n"
          ]
        }
      ]
    },
    {
      "cell_type": "markdown",
      "source": [
        "## check for duplicates"
      ],
      "metadata": {
        "id": "T1A08FU5IR-_"
      }
    },
    {
      "cell_type": "code",
      "source": [
        "def check_subfolder_names(folder_path):\n",
        "    \"\"\"\n",
        "    Checks whether all subfolder names in a folder are unique and prints the duplicate names if any.\n",
        "\n",
        "    Args:\n",
        "        folder_path (str): Path to the folder.\n",
        "    \"\"\"\n",
        "    if not os.path.isdir(folder_path):\n",
        "        raise ValueError(\"Invalid folder path.\")\n",
        "\n",
        "    subfolder_names = []\n",
        "    duplicate_names = []\n",
        "\n",
        "    for subfolder_name in os.listdir(folder_path):\n",
        "        subfolder_path = os.path.join(folder_path, subfolder_name)\n",
        "\n",
        "        if os.path.isdir(subfolder_path):\n",
        "            if subfolder_name in subfolder_names:\n",
        "                duplicate_names.append(subfolder_name)\n",
        "            else:\n",
        "                subfolder_names.append(subfolder_name)\n",
        "\n",
        "    if duplicate_names:\n",
        "        print(\"Duplicate subfolder names:\")\n",
        "        for duplicate_name in duplicate_names:\n",
        "            print(duplicate_name)\n",
        "    else:\n",
        "        print(\"No duplicate subfolder names found.\")\n",
        "\n"
      ],
      "metadata": {
        "id": "UEO-B3-5IVAN"
      },
      "execution_count": 8,
      "outputs": []
    },
    {
      "cell_type": "code",
      "source": [
        "check_subfolder_names(train_folder)"
      ],
      "metadata": {
        "colab": {
          "base_uri": "https://localhost:8080/"
        },
        "id": "21zhtKkWIa9y",
        "outputId": "e2f5981e-dee0-4f29-ce33-c31796da91f4"
      },
      "execution_count": 9,
      "outputs": [
        {
          "output_type": "stream",
          "name": "stdout",
          "text": [
            "No duplicate subfolder names found.\n"
          ]
        }
      ]
    },
    {
      "cell_type": "markdown",
      "metadata": {
        "id": "GF9YNuGABZs_"
      },
      "source": [
        "## print a single random band file"
      ]
    },
    {
      "cell_type": "code",
      "execution_count": 10,
      "metadata": {
        "execution": {
          "iopub.execute_input": "2023-06-17T14:59:04.453380Z",
          "iopub.status.busy": "2023-06-17T14:59:04.450551Z",
          "iopub.status.idle": "2023-06-17T14:59:04.568299Z",
          "shell.execute_reply": "2023-06-17T14:59:04.567183Z",
          "shell.execute_reply.started": "2023-06-17T14:59:04.453340Z"
        },
        "trusted": true,
        "colab": {
          "base_uri": "https://localhost:8080/",
          "height": 249
        },
        "id": "q4gZTT3pBZtA",
        "outputId": "6fb682dc-6875-46d6-cf58-b472f1cbc193"
      },
      "outputs": [
        {
          "output_type": "display_data",
          "data": {
            "text/plain": [
              "array([[246.7658 , 245.80508, 248.91423, ..., 253.13512, 253.07115,\n",
              "        253.56847],\n",
              "       [247.18756, 248.1787 , 251.60426, ..., 253.24692, 254.02245,\n",
              "        254.77922],\n",
              "       [248.7403 , 250.6605 , 254.115  , ..., 253.88829, 254.40623,\n",
              "        255.10202],\n",
              "       ...,\n",
              "       [265.743  , 265.61783, 265.67334, ..., 264.09637, 264.06427,\n",
              "        264.0653 ],\n",
              "       [266.02524, 265.94333, 265.68652, ..., 264.0709 , 264.06427,\n",
              "        264.0675 ],\n",
              "       [266.0399 , 266.00916, 265.67612, ..., 264.04077, 264.09824,\n",
              "        264.08847]], dtype=float32)"
            ]
          },
          "metadata": {}
        }
      ],
      "source": [
        "train_image = np.load(PATH_train_fifth_sample)\n",
        "\n",
        "# Access the data\n",
        "display(train_image[:, :, 4])\n"
      ]
    },
    {
      "cell_type": "markdown",
      "metadata": {
        "id": "cZQLwgxvBZtB"
      },
      "source": [
        "## display the shape of the single random band file"
      ]
    },
    {
      "cell_type": "code",
      "execution_count": 11,
      "metadata": {
        "execution": {
          "iopub.execute_input": "2023-06-17T14:59:04.578850Z",
          "iopub.status.busy": "2023-06-17T14:59:04.575721Z",
          "iopub.status.idle": "2023-06-17T14:59:04.592736Z",
          "shell.execute_reply": "2023-06-17T14:59:04.591182Z",
          "shell.execute_reply.started": "2023-06-17T14:59:04.578804Z"
        },
        "trusted": true,
        "id": "D0_L37o3BZtC",
        "outputId": "ca2a2e5f-a92c-44f2-a280-c15593045172",
        "colab": {
          "base_uri": "https://localhost:8080/"
        }
      },
      "outputs": [
        {
          "output_type": "execute_result",
          "data": {
            "text/plain": [
              "(256, 256, 8)"
            ]
          },
          "metadata": {},
          "execution_count": 11
        }
      ],
      "source": [
        "train_image.shape"
      ]
    },
    {
      "cell_type": "markdown",
      "metadata": {
        "id": "9pEJLjYABZtC"
      },
      "source": [
        "## display the shape of the corresponding human mask file"
      ]
    },
    {
      "cell_type": "code",
      "execution_count": 12,
      "metadata": {
        "execution": {
          "iopub.execute_input": "2023-06-17T14:59:04.612920Z",
          "iopub.status.busy": "2023-06-17T14:59:04.611164Z",
          "iopub.status.idle": "2023-06-17T14:59:04.633047Z",
          "shell.execute_reply": "2023-06-17T14:59:04.631921Z",
          "shell.execute_reply.started": "2023-06-17T14:59:04.612878Z"
        },
        "trusted": true,
        "id": "5bpIHgzOBZtD",
        "outputId": "eb4e09af-0bbf-434d-e73e-2217bd206fcf",
        "colab": {
          "base_uri": "https://localhost:8080/"
        }
      },
      "outputs": [
        {
          "output_type": "execute_result",
          "data": {
            "text/plain": [
              "(256, 256, 1, 4)"
            ]
          },
          "metadata": {},
          "execution_count": 12
        }
      ],
      "source": [
        "sample_mask_human = np.load(PATH_mask_human_fifth_sample)\n",
        "\n",
        "\n",
        "sample_mask_human.shape\n"
      ]
    },
    {
      "cell_type": "markdown",
      "metadata": {
        "id": "oythnTHbBZtF"
      },
      "source": [
        "## display the shape of the corresponding auto mask file"
      ]
    },
    {
      "cell_type": "code",
      "execution_count": 13,
      "metadata": {
        "execution": {
          "iopub.execute_input": "2023-06-17T14:59:04.644370Z",
          "iopub.status.busy": "2023-06-17T14:59:04.643465Z",
          "iopub.status.idle": "2023-06-17T14:59:04.662363Z",
          "shell.execute_reply": "2023-06-17T14:59:04.661255Z",
          "shell.execute_reply.started": "2023-06-17T14:59:04.644331Z"
        },
        "trusted": true,
        "id": "GIClt_82BZtF",
        "outputId": "1812ff6b-349c-4e1e-ebf5-8de16012330d",
        "colab": {
          "base_uri": "https://localhost:8080/",
          "height": 365
        }
      },
      "outputs": [
        {
          "output_type": "error",
          "ename": "FileNotFoundError",
          "evalue": "ignored",
          "traceback": [
            "\u001b[0;31m---------------------------------------------------------------------------\u001b[0m",
            "\u001b[0;31mFileNotFoundError\u001b[0m                         Traceback (most recent call last)",
            "\u001b[0;32m<ipython-input-13-3bf0393e9001>\u001b[0m in \u001b[0;36m<cell line: 1>\u001b[0;34m()\u001b[0m\n\u001b[0;32m----> 1\u001b[0;31m \u001b[0msample_mask_auto\u001b[0m \u001b[0;34m=\u001b[0m \u001b[0mnp\u001b[0m\u001b[0;34m.\u001b[0m\u001b[0mload\u001b[0m\u001b[0;34m(\u001b[0m\u001b[0mPATH_mask_auto_fifth_sample\u001b[0m\u001b[0;34m)\u001b[0m\u001b[0;34m\u001b[0m\u001b[0;34m\u001b[0m\u001b[0m\n\u001b[0m\u001b[1;32m      2\u001b[0m \u001b[0;34m\u001b[0m\u001b[0m\n\u001b[1;32m      3\u001b[0m \u001b[0;34m\u001b[0m\u001b[0m\n\u001b[1;32m      4\u001b[0m \u001b[0msample_mask_auto\u001b[0m\u001b[0;34m.\u001b[0m\u001b[0mshape\u001b[0m\u001b[0;34m\u001b[0m\u001b[0;34m\u001b[0m\u001b[0m\n",
            "\u001b[0;32m/usr/local/lib/python3.10/dist-packages/numpy/lib/npyio.py\u001b[0m in \u001b[0;36mload\u001b[0;34m(file, mmap_mode, allow_pickle, fix_imports, encoding)\u001b[0m\n\u001b[1;32m    405\u001b[0m             \u001b[0mown_fid\u001b[0m \u001b[0;34m=\u001b[0m \u001b[0;32mFalse\u001b[0m\u001b[0;34m\u001b[0m\u001b[0;34m\u001b[0m\u001b[0m\n\u001b[1;32m    406\u001b[0m         \u001b[0;32melse\u001b[0m\u001b[0;34m:\u001b[0m\u001b[0;34m\u001b[0m\u001b[0;34m\u001b[0m\u001b[0m\n\u001b[0;32m--> 407\u001b[0;31m             \u001b[0mfid\u001b[0m \u001b[0;34m=\u001b[0m \u001b[0mstack\u001b[0m\u001b[0;34m.\u001b[0m\u001b[0menter_context\u001b[0m\u001b[0;34m(\u001b[0m\u001b[0mopen\u001b[0m\u001b[0;34m(\u001b[0m\u001b[0mos_fspath\u001b[0m\u001b[0;34m(\u001b[0m\u001b[0mfile\u001b[0m\u001b[0;34m)\u001b[0m\u001b[0;34m,\u001b[0m \u001b[0;34m\"rb\"\u001b[0m\u001b[0;34m)\u001b[0m\u001b[0;34m)\u001b[0m\u001b[0;34m\u001b[0m\u001b[0;34m\u001b[0m\u001b[0m\n\u001b[0m\u001b[1;32m    408\u001b[0m             \u001b[0mown_fid\u001b[0m \u001b[0;34m=\u001b[0m \u001b[0;32mTrue\u001b[0m\u001b[0;34m\u001b[0m\u001b[0;34m\u001b[0m\u001b[0m\n\u001b[1;32m    409\u001b[0m \u001b[0;34m\u001b[0m\u001b[0m\n",
            "\u001b[0;31mFileNotFoundError\u001b[0m: [Errno 2] No such file or directory: 'content/drive/MyDrive/contrails_data/train_xs/1026930305418425156/human_pixel_masks.npy'"
          ]
        }
      ],
      "source": [
        "sample_mask_auto = np.load(PATH_mask_auto_fifth_sample)\n",
        "\n",
        "\n",
        "sample_mask_auto.shape\n"
      ]
    },
    {
      "cell_type": "code",
      "execution_count": null,
      "metadata": {
        "execution": {
          "iopub.execute_input": "2023-06-17T14:59:04.665131Z",
          "iopub.status.busy": "2023-06-17T14:59:04.664301Z",
          "iopub.status.idle": "2023-06-17T14:59:04.674869Z",
          "shell.execute_reply": "2023-06-17T14:59:04.673690Z",
          "shell.execute_reply.started": "2023-06-17T14:59:04.665072Z"
        },
        "trusted": true,
        "id": "PYnicb4lBZtG"
      },
      "outputs": [],
      "source": [
        "def visualize_band_images(folder_path, figsize=(10, 10), cmap='Spectral'):\n",
        "    # Set the figure size\n",
        "    plt.figure(figsize=figsize)\n",
        "\n",
        "    # Loop over the bands\n",
        "    for i in range(9):\n",
        "        # Load the band data\n",
        "        band_data = np.load(f'{folder_path}/band_{i+8:02d}.npy')\n",
        "\n",
        "        # Extract the 5th dimension for visualization\n",
        "        band_data_5th = band_data[:, :, 4]\n",
        "\n",
        "        # Create a subplot for each band\n",
        "        plt.subplot(3, 3, i+1)\n",
        "\n",
        "        # Use seaborn to visualize the image\n",
        "        sns.heatmap(band_data_5th, cmap=cmap, cbar=False)\n",
        "\n",
        "        # Set the title of the subplot\n",
        "        plt.title(f'Band {i+8}')\n",
        "\n",
        "    # Adjust the layout and display the plot\n",
        "    plt.tight_layout()\n",
        "    plt.show()\n"
      ]
    },
    {
      "cell_type": "markdown",
      "metadata": {
        "id": "uW_BqQbrBZtG"
      },
      "source": [
        "## visualize all bands in one single folder"
      ]
    },
    {
      "cell_type": "code",
      "execution_count": null,
      "metadata": {
        "execution": {
          "iopub.execute_input": "2023-06-17T14:59:04.696731Z",
          "iopub.status.busy": "2023-06-17T14:59:04.695761Z",
          "iopub.status.idle": "2023-06-17T14:59:14.916412Z",
          "shell.execute_reply": "2023-06-17T14:59:14.914970Z",
          "shell.execute_reply.started": "2023-06-17T14:59:04.696688Z"
        },
        "trusted": true,
        "id": "t8K_hzGwBZtG"
      },
      "outputs": [],
      "source": [
        "#for every 5h image in a band\n",
        "visualize_band_images(one_sample_folder_path)\n"
      ]
    },
    {
      "cell_type": "code",
      "execution_count": null,
      "metadata": {
        "execution": {
          "iopub.execute_input": "2023-06-17T14:59:14.917873Z",
          "iopub.status.busy": "2023-06-17T14:59:14.917520Z",
          "iopub.status.idle": "2023-06-17T14:59:14.929368Z",
          "shell.execute_reply": "2023-06-17T14:59:14.928464Z",
          "shell.execute_reply.started": "2023-06-17T14:59:14.917841Z"
        },
        "trusted": true,
        "id": "9mNq4owmBZtI"
      },
      "outputs": [],
      "source": [
        "def visualize_individual_masks(folder_path):\n",
        "    # Load the individual masks\n",
        "    masks_data = np.load(f'{folder_path}/human_individual_masks.npy')\n",
        "\n",
        "    # Get the number of individual labellers\n",
        "    num_labellers = masks_data.shape[3]\n",
        "\n",
        "    # Compute the grid size for the subplots\n",
        "    grid_size = int(np.ceil(np.sqrt(num_labellers)))\n",
        "\n",
        "    # Create a grid of subplots\n",
        "    fig, axes = plt.subplots(grid_size, grid_size, figsize=(15, 15))\n",
        "\n",
        "    # Flatten the axes for easy iteration\n",
        "    axes = axes.flatten()\n",
        "\n",
        "    # Loop over the labellers\n",
        "    for i in range(num_labellers):\n",
        "        # Extract the mask for the labeller\n",
        "        mask = masks_data[:, :, 0, i]\n",
        "\n",
        "        # Use seaborn to visualize the mask on the appropriate subplot\n",
        "        sns.heatmap(mask, cmap='Blues', cbar=False, linewidths=0.0, ax=axes[i])\n",
        "\n",
        "        # Set the title of the subplot\n",
        "        axes[i].set_title(f'Labeller {i+1}')\n",
        "\n",
        "    # Remove any unused subplots\n",
        "    for i in range(num_labellers, len(axes)):\n",
        "        fig.delaxes(axes[i])\n",
        "\n",
        "    # Adjust the layout and display the plot\n",
        "    plt.tight_layout()\n",
        "    plt.show()\n"
      ]
    },
    {
      "cell_type": "markdown",
      "metadata": {
        "id": "8738c0IYBZtI"
      },
      "source": [
        "## visualize corresponding human masks"
      ]
    },
    {
      "cell_type": "code",
      "execution_count": null,
      "metadata": {
        "execution": {
          "iopub.execute_input": "2023-06-17T14:59:14.931850Z",
          "iopub.status.busy": "2023-06-17T14:59:14.931143Z",
          "iopub.status.idle": "2023-06-17T14:59:19.772874Z",
          "shell.execute_reply": "2023-06-17T14:59:19.771814Z",
          "shell.execute_reply.started": "2023-06-17T14:59:14.931817Z"
        },
        "trusted": true,
        "id": "11advrpPBZtI"
      },
      "outputs": [],
      "source": [
        "visualize_individual_masks(one_sample_folder_path)"
      ]
    },
    {
      "cell_type": "code",
      "execution_count": null,
      "metadata": {
        "execution": {
          "iopub.execute_input": "2023-06-17T14:59:19.776413Z",
          "iopub.status.busy": "2023-06-17T14:59:19.774327Z",
          "iopub.status.idle": "2023-06-17T14:59:19.783760Z",
          "shell.execute_reply": "2023-06-17T14:59:19.782418Z",
          "shell.execute_reply.started": "2023-06-17T14:59:19.776373Z"
        },
        "trusted": true,
        "id": "8RUmcy95BZtJ"
      },
      "outputs": [],
      "source": [
        "def visualize_pixel_mask(folder_path):\n",
        "    # Load the pixel masks\n",
        "    masks_data = np.load(f'{folder_path}/human_pixel_masks.npy')\n",
        "\n",
        "    # Extract the mask\n",
        "    mask = masks_data[:, :, 0]\n",
        "\n",
        "    # Use seaborn to visualize the mask\n",
        "    sns.heatmap(mask, cmap='Blues', cbar=False, linewidths=0.0)\n",
        "    plt.title('Pixel Masks')\n",
        "\n",
        "    # Display the plot\n",
        "    plt.show()\n"
      ]
    },
    {
      "cell_type": "markdown",
      "metadata": {
        "id": "XCjhj6n8BZtJ"
      },
      "source": [
        "## visualize corresponding auto mask"
      ]
    },
    {
      "cell_type": "code",
      "execution_count": null,
      "metadata": {
        "execution": {
          "iopub.execute_input": "2023-06-17T14:59:19.785905Z",
          "iopub.status.busy": "2023-06-17T14:59:19.785344Z",
          "iopub.status.idle": "2023-06-17T14:59:20.532273Z",
          "shell.execute_reply": "2023-06-17T14:59:20.531153Z",
          "shell.execute_reply.started": "2023-06-17T14:59:19.785866Z"
        },
        "trusted": true,
        "id": "_xdybACRBZtJ"
      },
      "outputs": [],
      "source": [
        "visualize_pixel_mask(one_sample_folder_path)"
      ]
    },
    {
      "cell_type": "code",
      "execution_count": null,
      "metadata": {
        "execution": {
          "iopub.execute_input": "2023-06-17T14:59:20.536057Z",
          "iopub.status.busy": "2023-06-17T14:59:20.535191Z",
          "iopub.status.idle": "2023-06-17T14:59:20.546234Z",
          "shell.execute_reply": "2023-06-17T14:59:20.545179Z",
          "shell.execute_reply.started": "2023-06-17T14:59:20.536024Z"
        },
        "trusted": true,
        "id": "PYLSrUc5BZtJ"
      },
      "outputs": [],
      "source": [
        "def visualize_band_images(folder_path, figsize=(20, 20), dpi=300):\n",
        "    # Import the required libraries\n",
        "    import numpy as np\n",
        "    import matplotlib.pyplot as plt\n",
        "\n",
        "    # Determine the number of bands and time points from the first band file\n",
        "    first_band_data = np.load(f'{folder_path}/band_08.npy')\n",
        "    num_time_points = first_band_data.shape[2]\n",
        "\n",
        "    # Set the figure size and dpi\n",
        "    plt.figure(figsize=figsize, dpi=dpi)\n",
        "\n",
        "    # Loop over the bands\n",
        "    for i in range(9):\n",
        "        # Load the band data\n",
        "        band_data = np.load(f'{folder_path}/band_{i+8:02d}.npy')\n",
        "\n",
        "        # Loop over the time points\n",
        "        for j in range(num_time_points):\n",
        "            # Extract the image for the current time point\n",
        "            band_image = band_data[:, :, j]\n",
        "\n",
        "            # Create a subplot for this band and time point\n",
        "            plt.subplot(9, num_time_points, i*num_time_points + j + 1)\n",
        "\n",
        "            # Display the image\n",
        "            plt.imshow(band_image, cmap='Spectral')\n",
        "            plt.axis('off')  # Hide the axis\n",
        "\n",
        "            # Set the title of the subplot\n",
        "            if i == 0:\n",
        "                plt.title(f'Time {j+1}')\n",
        "            if j == 0:\n",
        "                plt.ylabel(f'Band {i+8}')\n",
        "\n",
        "    # Adjust the layout and display the plot\n",
        "    plt.tight_layout()\n",
        "    plt.show()\n"
      ]
    },
    {
      "cell_type": "markdown",
      "metadata": {
        "id": "Z3AY4EHPBZtJ"
      },
      "source": [
        "## visuzlize all the bands in all the time points in a single folder"
      ]
    },
    {
      "cell_type": "code",
      "execution_count": null,
      "metadata": {
        "execution": {
          "iopub.execute_input": "2023-06-17T14:59:20.548601Z",
          "iopub.status.busy": "2023-06-17T14:59:20.547725Z",
          "iopub.status.idle": "2023-06-17T14:59:39.983000Z",
          "shell.execute_reply": "2023-06-17T14:59:39.981597Z",
          "shell.execute_reply.started": "2023-06-17T14:59:20.548562Z"
        },
        "trusted": true,
        "id": "H-T6RJAvBZtL"
      },
      "outputs": [],
      "source": [
        "visualize_band_images(one_sample_folder_path)"
      ]
    },
    {
      "cell_type": "code",
      "execution_count": null,
      "metadata": {
        "execution": {
          "iopub.execute_input": "2023-06-17T14:59:39.988141Z",
          "iopub.status.busy": "2023-06-17T14:59:39.985917Z",
          "iopub.status.idle": "2023-06-17T14:59:40.000143Z",
          "shell.execute_reply": "2023-06-17T14:59:39.998690Z",
          "shell.execute_reply.started": "2023-06-17T14:59:39.988083Z"
        },
        "trusted": true,
        "id": "9CEbXj2oBZtL"
      },
      "outputs": [],
      "source": [
        "\n",
        "def check_value_ranges(folder_path):\n",
        "    # Iterate over the bands\n",
        "    for band_number in range(8, 17):\n",
        "        # Load the band data\n",
        "        band_data = np.load(f'{folder_path}/band_{band_number:02d}.npy')\n",
        "\n",
        "        # Calculate the minimum and maximum values\n",
        "        min_value = np.min(band_data[:, :, 4])\n",
        "        max_value = np.max(band_data[:, :, 4])\n",
        "\n",
        "        print(f'Band {band_number}: Min Value: {min_value}, Max Value: {max_value}')\n"
      ]
    },
    {
      "cell_type": "markdown",
      "metadata": {
        "id": "AkGEB_37BZtL"
      },
      "source": [
        "## look at the value ranges for each band in a single folder"
      ]
    },
    {
      "cell_type": "code",
      "execution_count": null,
      "metadata": {
        "execution": {
          "iopub.execute_input": "2023-06-17T14:59:40.002439Z",
          "iopub.status.busy": "2023-06-17T14:59:40.001658Z",
          "iopub.status.idle": "2023-06-17T14:59:40.060301Z",
          "shell.execute_reply": "2023-06-17T14:59:40.059368Z",
          "shell.execute_reply.started": "2023-06-17T14:59:40.002394Z"
        },
        "trusted": true,
        "id": "UPxhke_0BZtL"
      },
      "outputs": [],
      "source": [
        "#for every 5h image in a band\n",
        "check_value_ranges(one_sample_folder_path)"
      ]
    },
    {
      "cell_type": "markdown",
      "metadata": {
        "id": "rUm4s8RsBZtL"
      },
      "source": [
        "## check the distribution of masks (yes no contrails) for the entire dataset"
      ]
    },
    {
      "cell_type": "code",
      "execution_count": null,
      "metadata": {
        "id": "rcUoo-0sBZtM"
      },
      "outputs": [],
      "source": [
        "\n",
        "\n",
        "# Get the paths of all the human_pixel_masks.npy files\n",
        "mask_paths = glob.glob(f'{train_folder}/**/human_pixel_masks.npy', recursive=True)\n",
        "\n",
        "# Count the number of files with all zeros\n",
        "num_all_zeros = 0\n",
        "\n",
        "# Iterate over the mask files\n",
        "for mask_path in mask_paths:\n",
        "    # Load the mask data using memmap\n",
        "    mask_data = np.load(mask_path, mmap_mode='r')\n",
        "\n",
        "    # Check if all elements in the mask are zero\n",
        "    if np.all(mask_data == 0):\n",
        "        num_all_zeros += 1\n",
        "\n",
        "# Calculate the percentage of files with all zeros\n",
        "percentage_all_zeros = (num_all_zeros / len(mask_paths)) * 100\n",
        "\n",
        "# Print the results\n",
        "print(\"Number of auto masks with all zeros:\", num_all_zeros)\n",
        "print(\"Percentage of auto masks with all zeros:\", percentage_all_zeros)\n"
      ]
    },
    {
      "cell_type": "code",
      "execution_count": null,
      "metadata": {
        "execution": {
          "iopub.execute_input": "2023-06-17T14:59:40.062749Z",
          "iopub.status.busy": "2023-06-17T14:59:40.061727Z",
          "iopub.status.idle": "2023-06-17T14:59:40.069360Z",
          "shell.execute_reply": "2023-06-17T14:59:40.068467Z",
          "shell.execute_reply.started": "2023-06-17T14:59:40.062704Z"
        },
        "trusted": true,
        "id": "brL33GAbBZtM"
      },
      "outputs": [],
      "source": [
        "def plot_band_distribution(folder_path):\n",
        "    for band_number in range(8, 17):\n",
        "        # Load the band data\n",
        "        band_data = np.load(f'{folder_path}/band_{band_number:02d}.npy')\n",
        "\n",
        "        # Flatten the band data\n",
        "        flattened_data = band_data[:, :, 4].flatten()\n",
        "\n",
        "        # Create the histogram trace\n",
        "        histogram_trace = go.Histogram(x=flattened_data, nbinsx=50)\n",
        "\n",
        "        # Create the layout\n",
        "        layout = go.Layout(\n",
        "            title=f'Distribution of Band {band_number} Data',\n",
        "            xaxis=dict(title='Pixel Value'),\n",
        "            yaxis=dict(title='Frequency'),\n",
        "            bargap=0.1,\n",
        "            bargroupgap=0.1\n",
        "        )\n",
        "\n",
        "        # Create the figure\n",
        "        fig = go.Figure(data=[histogram_trace], layout=layout)\n",
        "\n",
        "        # Show the plot\n",
        "        fig.show()\n"
      ]
    },
    {
      "cell_type": "markdown",
      "metadata": {
        "id": "Uj6wAYWQBZtM"
      },
      "source": [
        "## plot distribution of values for every bans in a single folder"
      ]
    },
    {
      "cell_type": "code",
      "execution_count": null,
      "metadata": {
        "execution": {
          "iopub.execute_input": "2023-06-17T14:59:40.071557Z",
          "iopub.status.busy": "2023-06-17T14:59:40.070745Z",
          "iopub.status.idle": "2023-06-17T14:59:43.610054Z",
          "shell.execute_reply": "2023-06-17T14:59:43.609076Z",
          "shell.execute_reply.started": "2023-06-17T14:59:40.071525Z"
        },
        "trusted": true,
        "id": "NzoSgo05BZtN"
      },
      "outputs": [],
      "source": [
        "#for every 5h image in a band\n",
        "plot_band_distribution(one_sample_folder_path)"
      ]
    },
    {
      "cell_type": "markdown",
      "metadata": {
        "id": "avVfVArvBZtN"
      },
      "source": [
        "## plot min vs max values distribution per band for the entire dataset"
      ]
    },
    {
      "cell_type": "code",
      "execution_count": null,
      "metadata": {
        "execution": {
          "iopub.execute_input": "2023-06-17T15:04:51.016381Z",
          "iopub.status.busy": "2023-06-17T15:04:51.014439Z"
        },
        "trusted": true,
        "id": "I_cPvtBrBZtN"
      },
      "outputs": [],
      "source": [
        "\n",
        "# Initialize empty lists to store min and max values\n",
        "min_values, max_values = [], []\n",
        "\n",
        "# Get the list of subfolders in the train folder\n",
        "subfolders = [f for f in os.listdir(train_folder) if not f.startswith('.') and os.path.isdir(os.path.join(train_folder, f))]\n",
        "\n",
        "# Iterate over the bands\n",
        "for band_number in range(8, 17):\n",
        "    # Initialize empty lists for min and max values of the current band\n",
        "    band_min_values, band_max_values = [], []\n",
        "\n",
        "    # Specify the paths to the .npy files for the band\n",
        "    file_paths = [os.path.join(train_folder, subdir, f'band_{band_number:02d}.npy') for subdir in subfolders]\n",
        "\n",
        "    # Iterate over the .npy files and calculate the min and max\n",
        "    for file_path in file_paths:\n",
        "        band_data = np.load(file_path)[:, :, 4]  # Extract the 5th dimension directly\n",
        "        band_min_values.append(np.min(band_data))\n",
        "        band_max_values.append(np.max(band_data))\n",
        "\n",
        "    # Append the min and max values of the current band to the main arrays\n",
        "    min_values.append(band_min_values)\n",
        "    max_values.append(band_max_values)\n",
        "\n",
        "    # Create the plotly figure for min and max values of the current band\n",
        "    fig = go.Figure()\n",
        "    fig.add_trace(go.Histogram(x=band_min_values, name='Min Values', nbinsx=50))\n",
        "    fig.add_trace(go.Histogram(x=band_max_values, name='Max Values', nbinsx=50))\n",
        "    fig.update_layout(\n",
        "        title=f'Distribution of Min and Max Values for Band {band_number}',\n",
        "        xaxis_title='Value',\n",
        "        yaxis_title='Count',\n",
        "        bargap=0.1,\n",
        "        bargroupgap=0.1\n",
        "    )\n",
        "    fig.show()\n",
        "\n",
        "# Convert the min and max values lists to numpy arrays\n",
        "min_values = np.array(min_values)\n",
        "max_values = np.array(max_values)\n"
      ]
    },
    {
      "cell_type": "code",
      "execution_count": null,
      "metadata": {
        "id": "aH8Pqk6TBZtO"
      },
      "outputs": [],
      "source": [
        "# import os\n",
        "# import random\n",
        "# import shutil\n",
        "\n",
        "# # Set the paths\n",
        "# train_folder = '/Volumes/Velik/contrails/train'\n",
        "# new_dataset_folder = '/Volumes/Velik/contrails/train_xs'\n",
        "\n",
        "# # Create the new dataset folder\n",
        "# os.makedirs(new_dataset_folder, exist_ok=True)\n",
        "\n",
        "# # List all the subfolders in the train folder\n",
        "# subfolders = os.listdir(train_folder)\n",
        "\n",
        "# # Calculate the number of subfolders to select (10% of the total)\n",
        "# num_subfolders = int(len(subfolders) * 0.025)\n",
        "\n",
        "# # Shuffle the subfolders randomly\n",
        "# random.shuffle(subfolders)\n",
        "\n",
        "# # Select the first num_subfolders subfolders\n",
        "# selected_subfolders = subfolders[:num_subfolders]\n",
        "\n",
        "# # Count the number of subfolders with all-zero human_pixel_masks.npy\n",
        "# num_all_zeros_subfolders = 0\n",
        "\n",
        "# # Iterate over the selected subfolders\n",
        "# for subfolder in selected_subfolders:\n",
        "#     # Create the path for the source subfolder\n",
        "#     source_path = os.path.join(train_folder, subfolder)\n",
        "\n",
        "#     # Copy the source subfolder to the new dataset folder\n",
        "#     shutil.copytree(source_path, os.path.join(new_dataset_folder, subfolder))\n",
        "\n",
        "#     # Check if the subfolder has all-zero human_pixel_masks.npy\n",
        "#     mask_file_path = os.path.join(source_path, 'human_pixel_masks.npy')\n",
        "#     mask_data = np.load(mask_file_path)\n",
        "\n",
        "#     if np.all(mask_data == 0):\n",
        "#         num_all_zeros_subfolders += 1\n",
        "\n",
        "# # Calculate the percentage of subfolders with all-zero human_pixel_masks.npy\n",
        "# percentage_all_zeros = (num_all_zeros_subfolders / num_subfolders) * 100\n",
        "\n",
        "# # Print the results\n",
        "# print(f\"Number of selected subfolders: {num_subfolders}\")\n",
        "# print(f\"Number of subfolders with all-zero human_pixel_masks.npy: {num_all_zeros_subfolders}\")\n",
        "# print(f\"Percentage of subfolders with all-zero human_pixel_masks.npy: {percentage_all_zeros:.1f}%\")\n"
      ]
    },
    {
      "cell_type": "markdown",
      "metadata": {
        "id": "VU0fQh-5BZtO"
      },
      "source": [
        "## plot distribution оf mean and std of each band of the entire dataset"
      ]
    },
    {
      "cell_type": "code",
      "execution_count": null,
      "metadata": {
        "id": "AGLKDl05BZtP"
      },
      "outputs": [],
      "source": [
        "# Initialize empty arrays to store mean and standard deviation values\n",
        "mean_values = []\n",
        "std_values = []\n",
        "\n",
        "# Iterate over the bands\n",
        "for band_number in range(8, 17):\n",
        "    # Initialize empty arrays for mean and standard deviation values of the current band\n",
        "    band_mean_values = []\n",
        "    band_std_values = []\n",
        "\n",
        "    # Iterate over the subfolders in the train folder\n",
        "    for subdir in os.listdir(train_folder):\n",
        "        subdir_path = os.path.join(train_folder, subdir)\n",
        "\n",
        "        if not os.path.isdir(subdir_path) or subdir.startswith('.'):\n",
        "            continue\n",
        "\n",
        "        # Specify the path to the .npy file for the band\n",
        "        file_path = os.path.join(subdir_path, f'band_{band_number:02d}.npy')\n",
        "\n",
        "        # Load the .npy file\n",
        "        band_data = np.load(file_path)\n",
        "\n",
        "        # Extract the 5th dimension for mean and standard deviation calculations\n",
        "        band_data_5th = band_data[:, :, 4]\n",
        "\n",
        "        # Compute the mean and standard deviation values for the current band\n",
        "        band_mean = np.mean(band_data_5th)\n",
        "        band_std = np.std(band_data_5th)\n",
        "\n",
        "        # Append the mean and standard deviation values to the respective arrays\n",
        "        band_mean_values.append(band_mean)\n",
        "        band_std_values.append(band_std)\n",
        "\n",
        "    # Append the mean and standard deviation values of the current band to the main arrays\n",
        "    mean_values.append(band_mean_values)\n",
        "    std_values.append(band_std_values)\n",
        "\n",
        "    # Create the plotly figure for the means of the current band\n",
        "    fig_mean = go.Figure()\n",
        "    fig_mean.add_trace(go.Histogram(x=band_mean_values, name='Mean Values', nbinsx=50, marker_color='lightblue'))\n",
        "    fig_mean.update_layout(title=f'Distribution of Mean Values for Band {band_number}', bargap=0.1)\n",
        "    fig_mean.show()\n",
        "\n",
        "    # Create the plotly figure for the standard deviations of the current band\n",
        "    fig_std = go.Figure()\n",
        "    fig_std.add_trace(go.Histogram(x=band_std_values, name='Standard Deviation Values', nbinsx=50, marker_color='lightcoral'))\n",
        "    fig_std.update_layout(title=f'Distribution of Standard Deviation Values for Band {band_number}', bargap=0.1)\n",
        "    fig_std.show()\n",
        "\n",
        "# Convert the mean and standard deviation values arrays to numpy arrays\n",
        "mean_values = np.array(mean_values)\n",
        "std_values = np.array(std_values)\n"
      ]
    },
    {
      "cell_type": "markdown",
      "metadata": {
        "id": "-BIlfeRsBZtQ"
      },
      "source": [
        "## plot Pearson and Spearman correlation between bands"
      ]
    },
    {
      "cell_type": "code",
      "execution_count": null,
      "metadata": {
        "id": "aOLyjiFiBZtQ"
      },
      "outputs": [],
      "source": [
        "# Define the band files\n",
        "band_files = ['band_08.npy', 'band_09.npy', 'band_10.npy', 'band_11.npy', 'band_12.npy', 'band_13.npy', 'band_14.npy', 'band_15.npy', 'band_16.npy']\n",
        "\n",
        "# Initialize a dictionary to store the flattened pixel values for each band\n",
        "band_data = {band_file: [] for band_file in band_files}\n",
        "\n",
        "# Iterate over each sample in the dataset\n",
        "for sample_folder in tqdm(os.listdir(train_folder)):\n",
        "    # Ensure the folder is a directory\n",
        "    if os.path.isdir(os.path.join(train_folder, sample_folder)):\n",
        "        # Iterate over each band\n",
        "        for band_file in tqdm(band_files, leave=False, desc=f'Processing {sample_folder}'):\n",
        "            # Load the band data\n",
        "            band_array = np.load(os.path.join(train_folder, sample_folder, band_file))\n",
        "            # Flatten the 5th image and append it to the list for the current band\n",
        "            band_data[band_file].extend(band_array[:, :, 4].flatten())\n",
        "\n",
        "# Convert the lists to numpy arrays\n",
        "for band_file in tqdm(band_files, desc='Converting to numpy arrays'):\n",
        "    band_data[band_file] = np.array(band_data[band_file])\n",
        "\n",
        "# Create a DataFrame to store the correlation values\n",
        "correlation_df_pearson = pd.DataFrame(index=band_files, columns=band_files)\n",
        "correlation_df_spearman = pd.DataFrame(index=band_files, columns=band_files)\n",
        "\n",
        "# Compute the correlation between each pair of bands\n",
        "for i, band_file_i in tqdm(enumerate(band_files), total=len(band_files), desc='Computing correlations'):\n",
        "    for j, band_file_j in enumerate(band_files[i:], start=i):  # Note: start from 'i' to include the diagonal\n",
        "        pearson_corr, _ = pearsonr(band_data[band_file_i], band_data[band_file_j])\n",
        "        spearman_corr, _ = spearmanr(band_data[band_file_i], band_data[band_file_j])\n",
        "        correlation_df_pearson.loc[band_file_i, band_file_j] = pearson_corr\n",
        "        correlation_df_pearson.loc[band_file_j, band_file_i] = pearson_corr\n",
        "        correlation_df_spearman.loc[band_file_i, band_file_j] = spearman_corr\n",
        "        correlation_df_spearman.loc[band_file_j, band_file_i] = spearman_corr\n",
        "\n",
        "# Plot a heatmap of the Pearson correlation matrix\n",
        "sns.heatmap(correlation_df_pearson.astype(float), annot=True, cmap='coolwarm')\n",
        "plt.title('Pearson Correlation')\n",
        "plt.show()\n",
        "\n",
        "# Plot a heatmap of the Spearman correlation matrix\n",
        "sns.heatmap(correlation_df_spearman.astype(float), annot=True, cmap='coolwarm')\n",
        "plt.title('Spearman Correlation')\n",
        "plt.show()\n"
      ]
    },
    {
      "cell_type": "markdown",
      "source": [
        "## plot value distribution per band"
      ],
      "metadata": {
        "id": "3Q2aisDtJKVE"
      }
    },
    {
      "cell_type": "code",
      "source": [
        "band_files = ['band_08.npy', 'band_09.npy', 'band_10.npy', 'band_11.npy', 'band_12.npy', 'band_13.npy', 'band_14.npy', 'band_15.npy', 'band_16.npy']\n",
        "\n",
        "# Loop through each band\n",
        "for band_file in band_files:\n",
        "    # Initialize an empty list to store values\n",
        "    values = []\n",
        "\n",
        "    # Loop through all folders in the train directory\n",
        "    for folder_name in os.listdir(train_folder):\n",
        "        folder_path = os.path.join(train_folder, folder_name)\n",
        "\n",
        "        # Make sure this is a folder\n",
        "        if not os.path.isdir(folder_path):\n",
        "            continue\n",
        "\n",
        "        file_path = os.path.join(folder_path, band_file)\n",
        "\n",
        "        # Ensure the file exists\n",
        "        if not os.path.exists(file_path):\n",
        "            continue\n",
        "\n",
        "        # Load the .npy file\n",
        "        band_data = np.load(file_path)\n",
        "\n",
        "        # Get the 5th image in the sequence\n",
        "        fifth_image = band_data[4]  # Note: Python indexing starts from 0\n",
        "\n",
        "        # Flatten the image to a 1D array and append it to the values list\n",
        "        values.extend(fifth_image.flatten())\n",
        "\n",
        "    # Create the histogram trace\n",
        "    hist_trace = go.Histogram(\n",
        "        x=values,\n",
        "        nbinsx=100,\n",
        "        marker=dict(\n",
        "            color='blue',\n",
        "            opacity=0.7\n",
        "        )\n",
        "    )\n",
        "\n",
        "    # Create the layout for the subplot\n",
        "    layout = go.Layout(\n",
        "        title=f'Distribution of pixel values in {band_file}',\n",
        "        bargap=0.1\n",
        "    )\n",
        "\n",
        "    # Create the figure with subplot\n",
        "    fig = go.Figure(data=[hist_trace], layout=layout)\n",
        "\n",
        "    # Show the figure\n",
        "    fig.show()\n"
      ],
      "metadata": {
        "id": "Ra883dMOImaF"
      },
      "execution_count": null,
      "outputs": []
    },
    {
      "cell_type": "markdown",
      "source": [
        "## print a large number of bands and corresponding human masks to observbe the quality pf labeling"
      ],
      "metadata": {
        "id": "M46bCaAcsdh_"
      }
    },
    {
      "cell_type": "code",
      "source": [
        "def print_5th_band_images(input_folder, band_number1, band_number2, band_number3):\n",
        "    # Convert band numbers to strings and pad with leading zeros\n",
        "    band_number_str1 = str(band_number1).zfill(2)\n",
        "    band_number_str2 = str(band_number2).zfill(2)\n",
        "    band_number_str3 = str(band_number3).zfill(2)\n",
        "\n",
        "    # Iterate over the subfolders in the input folder\n",
        "    for subdir in os.listdir(input_folder):\n",
        "        subdir_path = os.path.join(input_folder, subdir)\n",
        "\n",
        "        # Check if the subfolder is a directory\n",
        "        if os.path.isdir(subdir_path):\n",
        "            print(f\"Folder name: {subdir}\")\n",
        "            # Specify the paths to the band files\n",
        "            band_file_path1 = os.path.join(subdir_path, f'band_{band_number_str1}.npy')\n",
        "            band_file_path2 = os.path.join(subdir_path, f'band_{band_number_str2}.npy')\n",
        "            band_file_path3 = os.path.join(subdir_path, f'band_{band_number_str3}.npy')\n",
        "\n",
        "            # Specify the path to the pixel masks file\n",
        "            masks_file_path = os.path.join(subdir_path, 'human_pixel_masks.npy')\n",
        "\n",
        "            # Load the band files and pixel masks file\n",
        "            band_data1 = np.load(band_file_path1)\n",
        "            band_data2 = np.load(band_file_path2)\n",
        "            band_data3 = np.load(band_file_path3)\n",
        "            masks_data = np.load(masks_file_path)\n",
        "\n",
        "            # Get the 5th image (5th dimension) from each band\n",
        "            band_5th_image1 = band_data1[:, :, 4]\n",
        "            band_5th_image2 = band_data2[:, :, 4]\n",
        "            band_5th_image3 = band_data3[:, :, 4]\n",
        "\n",
        "            # Get the pixel masks\n",
        "            masks = masks_data[:, :, 0]\n",
        "\n",
        "            # Create a subplot with 2 rows and 2 columns\n",
        "            fig, axs = plt.subplots(2, 2, figsize=(10, 10))\n",
        "\n",
        "            # Display the band images and mask in subplots\n",
        "            sns.heatmap(band_5th_image1, cmap='Spectral', cbar=False, ax=axs[0, 0])\n",
        "            axs[0, 0].set_title(f'5th Image - Band {band_number_str1}')\n",
        "            axs[0, 0].axis('off')\n",
        "\n",
        "            sns.heatmap(band_5th_image2, cmap='Spectral', cbar=False, ax=axs[0, 1])\n",
        "            axs[0, 1].set_title(f'5th Image - Band {band_number_str2}')\n",
        "            axs[0, 1].axis('off')\n",
        "\n",
        "            sns.heatmap(band_5th_image3, cmap='Spectral', cbar=False, ax=axs[1, 0])\n",
        "            axs[1, 0].set_title(f'5th Image - Band {band_number_str3}')\n",
        "            axs[1, 0].axis('off')\n",
        "\n",
        "            sns.heatmap(masks, cmap='Blues', cbar=False, linewidths=0.0, ax=axs[1, 1])\n",
        "            axs[1, 1].set_title('Pixel Masks')\n",
        "            axs[1, 1].axis('off')\n",
        "\n",
        "            # Adjust the spacing between subplots\n",
        "            plt.tight_layout()\n",
        "\n",
        "            # Show the plot\n",
        "            plt.show()"
      ],
      "metadata": {
        "id": "HmlafOn1nxdn"
      },
      "execution_count": null,
      "outputs": []
    },
    {
      "cell_type": "code",
      "source": [
        "print_5th_band_images(train_folder, 9, 12, 15)"
      ],
      "metadata": {
        "id": "QWyoQHURn69z"
      },
      "execution_count": null,
      "outputs": []
    },
    {
      "cell_type": "code",
      "source": [],
      "metadata": {
        "id": "LtwQjM8hsYWQ"
      },
      "execution_count": null,
      "outputs": []
    }
  ],
  "metadata": {
    "kernelspec": {
      "display_name": "Python 3",
      "name": "python3"
    },
    "language_info": {
      "codemirror_mode": {
        "name": "ipython",
        "version": 3
      },
      "file_extension": ".py",
      "mimetype": "text/x-python",
      "name": "python",
      "nbconvert_exporter": "python",
      "pygments_lexer": "ipython3",
      "version": "3.11.3"
    },
    "colab": {
      "provenance": [],
      "toc_visible": true,
      "machine_shape": "hm",
      "gpuType": "A100",
      "include_colab_link": true
    },
    "accelerator": "GPU"
  },
  "nbformat": 4,
  "nbformat_minor": 0
}