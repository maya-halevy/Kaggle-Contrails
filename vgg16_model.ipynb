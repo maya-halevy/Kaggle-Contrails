{
  "metadata": {
    "colab": {
      "provenance": [],
      "machine_shape": "hm",
      "gpuType": "T4",
      "include_colab_link": true
    },
    "kernelspec": {
      "name": "python3",
      "display_name": "Python 3",
      "language": "python"
    },
    "language_info": {
      "name": "python",
      "version": "3.10.10",
      "mimetype": "text/x-python",
      "codemirror_mode": {
        "name": "ipython",
        "version": 3
      },
      "pygments_lexer": "ipython3",
      "nbconvert_exporter": "python",
      "file_extension": ".py"
    },
    "accelerator": "GPU"
  },
  "nbformat_minor": 0,
  "nbformat": 4,
  "cells": [
    {
      "cell_type": "markdown",
      "metadata": {
        "id": "view-in-github",
        "colab_type": "text"
      },
      "source": [
        "<a href=\"https://colab.research.google.com/github/maya-halevy/Kaggle-Contrails/blob/main/vgg16_model.ipynb\" target=\"_parent\"><img src=\"https://colab.research.google.com/assets/colab-badge.svg\" alt=\"Open In Colab\"/></a>"
      ]
    },
    {
      "cell_type": "code",
      "source": [
        "import numpy as np\n",
        "import pandas as pd\n",
        "import os\n",
        "from sklearn.preprocessing import MinMaxScaler\n",
        "from sklearn.model_selection import train_test_split\n",
        "from sklearn.linear_model import LogisticRegression\n",
        "from sklearn.metrics import accuracy_score, precision_score, recall_score, f1_score\n",
        "\n",
        "import os\n",
        "import numpy as np\n",
        "import tensorflow as tf\n",
        "from tensorflow.keras import models, layers, regularizers\n",
        "from tensorflow.keras import backend as K\n",
        "from tensorflow.keras.optimizers import Adam\n",
        "import cv2\n",
        "from PIL import Image\n",
        "# from focal_loss import BinaryFocalLoss\n",
        "from tensorflow.keras.callbacks import ModelCheckpoint, EarlyStopping\n",
        "# import matplotlib.pyplot as plt\n",
        "# import seaborn as sns\n",
        "from tensorflow.keras.callbacks import LearningRateScheduler\n",
        "\n",
        "## Unet\n",
        "import os\n",
        "import numpy as np\n",
        "from matplotlib import pyplot as plt\n",
        "from tensorflow.keras.optimizers import Adam\n",
        "#import tensorflow as tf\n",
        "from datetime import datetime\n",
        "import cv2\n",
        "from PIL import Image"
      ],
      "metadata": {
        "id": "s02EK_Bx580K",
        "execution": {
          "iopub.status.busy": "2023-07-07T21:55:16.185355Z",
          "iopub.execute_input": "2023-07-07T21:55:16.185828Z",
          "iopub.status.idle": "2023-07-07T21:55:25.652503Z",
          "shell.execute_reply.started": "2023-07-07T21:55:16.185789Z",
          "shell.execute_reply": "2023-07-07T21:55:25.651401Z"
        },
        "trusted": true
      },
      "execution_count": null,
      "outputs": []
    },
    {
      "cell_type": "markdown",
      "source": [
        "# Set folder path"
      ],
      "metadata": {
        "id": "M5SpB7cMyp8z"
      }
    },
    {
      "cell_type": "code",
      "source": [
        "train_folder = '/kaggle/input/google-research-identify-contrails-reduce-global-warming/train'\n",
        "validation_folder = '/kaggle/input/google-research-identify-contrails-reduce-global-warming/validation'\n",
        "test_folder = '/kaggle/input/google-research-identify-contrails-reduce-global-warming/test'"
      ],
      "metadata": {
        "id": "qiCHyoCF6EEL",
        "execution": {
          "iopub.status.busy": "2023-07-07T21:55:25.658819Z",
          "iopub.execute_input": "2023-07-07T21:55:25.659751Z",
          "iopub.status.idle": "2023-07-07T21:55:25.664275Z",
          "shell.execute_reply.started": "2023-07-07T21:55:25.659713Z",
          "shell.execute_reply": "2023-07-07T21:55:25.663329Z"
        },
        "trusted": true
      },
      "execution_count": null,
      "outputs": []
    },
    {
      "cell_type": "markdown",
      "source": [
        "# Metrics"
      ],
      "metadata": {
        "id": "s1XCv4gnGmb0"
      }
    },
    {
      "cell_type": "code",
      "source": [
        "def dice_coef(y_true, y_pred):\n",
        "    y_true_f = K.flatten(y_true)\n",
        "    y_pred_f = K.flatten(y_pred)\n",
        "    intersection = K.sum(y_true_f * y_pred_f)\n",
        "    return (2.0 * intersection + 1.0) / (K.sum(y_true_f) + K.sum(y_pred_f) + 1.0)\n",
        "\n",
        "\n",
        "def jacard_coef(y_true, y_pred):\n",
        "    y_true_f = K.flatten(y_true)\n",
        "    y_pred_f = K.flatten(y_pred)\n",
        "    intersection = K.sum(y_true_f * y_pred_f)\n",
        "    return (intersection + 1.0) / (K.sum(y_true_f) + K.sum(y_pred_f) - intersection + 1.0)\n",
        "\n",
        "\n",
        "def jacard_coef_loss(y_true, y_pred):\n",
        "    return -jacard_coef(y_true, y_pred)\n",
        "\n",
        "\n",
        "def dice_coef_loss(y_true, y_pred):\n",
        "    return -dice_coef(y_true, y_pred)"
      ],
      "metadata": {
        "id": "a6VfOTOK6HMg",
        "execution": {
          "iopub.status.busy": "2023-07-07T21:55:25.665462Z",
          "iopub.execute_input": "2023-07-07T21:55:25.666304Z",
          "iopub.status.idle": "2023-07-07T21:55:25.686878Z",
          "shell.execute_reply.started": "2023-07-07T21:55:25.666268Z",
          "shell.execute_reply": "2023-07-07T21:55:25.685857Z"
        },
        "trusted": true
      },
      "execution_count": null,
      "outputs": []
    },
    {
      "cell_type": "markdown",
      "source": [
        "# Data load functions"
      ],
      "metadata": {
        "id": "sPXWZ3YBGmb2"
      }
    },
    {
      "cell_type": "code",
      "source": [
        "# Function to load a band file\n",
        "def load_band_file(path):\n",
        "    return np.load(path)\n",
        "\n",
        "# Function to load a mask file\n",
        "def load_mask_file(path):\n",
        "    return np.load(path)\n",
        "\n",
        "# Function to get all the band file paths for a given folder\n",
        "def get_band_file_paths(folder_path):\n",
        "    return sorted([os.path.join(folder_path, entry.name) for entry in os.scandir(folder_path) if entry.name.startswith(\"band_\") and entry.name.endswith('.npy')])\n",
        "\n",
        "# Function to get the mask file path for a given folder\n",
        "def get_mask_file_path(folder_path):\n",
        "    return os.path.join(folder_path, 'human_pixel_masks.npy')\n"
      ],
      "metadata": {
        "id": "Ta10pFY7EdKo",
        "execution": {
          "iopub.status.busy": "2023-07-07T21:55:25.691066Z",
          "iopub.execute_input": "2023-07-07T21:55:25.692572Z",
          "iopub.status.idle": "2023-07-07T21:55:25.702278Z",
          "shell.execute_reply.started": "2023-07-07T21:55:25.692542Z",
          "shell.execute_reply": "2023-07-07T21:55:25.700981Z"
        },
        "trusted": true
      },
      "execution_count": null,
      "outputs": []
    },
    {
      "cell_type": "code",
      "source": [
        "def augment(images, mask):\n",
        "    # Flip\n",
        "    flip_type = np.random.randint(0, 3) # generates 0, 1, or 2\n",
        "    if flip_type == 1:\n",
        "        # Flip images and mask horizontally\n",
        "        images = np.flip(images, axis=1)\n",
        "        mask = np.flip(mask, axis=1)\n",
        "    elif flip_type == 2:\n",
        "        # Flip images and mask vertically\n",
        "        images = np.flip(images, axis=0)\n",
        "        mask = np.flip(mask, axis=0)\n",
        "    # If flip_type == 0, do not flip at all\n",
        "\n",
        "    # Rotation\n",
        "    k = np.random.randint(0, 4) # generates 0, 1, 2 or 3\n",
        "    # Rotate images and mask 0, 90, 180 or 270 degrees\n",
        "    images = np.rot90(images, k, axes=(0, 1))\n",
        "    mask = np.rot90(mask, k, axes=(0, 1))\n",
        "\n",
        "    return images, mask\n"
      ],
      "metadata": {
        "id": "0DM92M9hExBn",
        "execution": {
          "iopub.status.busy": "2023-07-07T21:55:25.704407Z",
          "iopub.execute_input": "2023-07-07T21:55:25.705111Z",
          "iopub.status.idle": "2023-07-07T21:55:25.718201Z",
          "shell.execute_reply.started": "2023-07-07T21:55:25.705052Z",
          "shell.execute_reply": "2023-07-07T21:55:25.717193Z"
        },
        "trusted": true
      },
      "execution_count": null,
      "outputs": []
    },
    {
      "cell_type": "code",
      "source": [
        "import cv2\n",
        "import numpy as np\n",
        "import os\n",
        "\n",
        "def data_generator_random_preprocess(folder_path, batch_size):\n",
        "    while True:\n",
        "        subfolders = os.listdir(folder_path)\n",
        "        np.random.shuffle(subfolders)\n",
        "        for i in range(0, len(subfolders), batch_size):\n",
        "            batch_subfolders = subfolders[i:i+batch_size]\n",
        "            batch_images = []\n",
        "            batch_masks = []\n",
        "            for subfolder in batch_subfolders:\n",
        "                try:\n",
        "                    subfolder_path = os.path.join(folder_path, subfolder)\n",
        "                    band_file_paths = get_band_file_paths(subfolder_path)\n",
        "                    if not band_file_paths:\n",
        "                        continue\n",
        "                    band_file_paths = [path for path in band_file_paths if path.endswith((\"08.npy\", \"12.npy\", \"16.npy\"))]\n",
        "                    processed_band_images = []\n",
        "                    for path in band_file_paths:\n",
        "                        band_image = load_band_file(path)[..., 4]  # Select only the 5th image\n",
        "\n",
        "                        # Image Preprocessing\n",
        "                        min_val = np.min(band_image)\n",
        "                        max_val = np.max(band_image)\n",
        "                        normalized_image = ((band_image - min_val) / (max_val - min_val))\n",
        "\n",
        "                        # Apply sobel derivative to image\n",
        "                        sobel_x = cv2.Sobel(normalized_image, cv2.CV_64F, 1, 0)\n",
        "                        sobel_y = cv2.Sobel(normalized_image, cv2.CV_64F, 0, 1)\n",
        "\n",
        "                        # Calculate the Sobel derivative magnitudes\n",
        "                        sobel_mag = np.sqrt(np.square(np.abs(sobel_x)) + np.square(np.abs(sobel_y)))\n",
        "\n",
        "                        # Normalize the Sobel magnitude result to the range [0, 1]\n",
        "                        min_val, max_val = np.min(sobel_mag), np.max(sobel_mag)\n",
        "                        sobel_mag = (sobel_mag - min_val) / (max_val - min_val)\n",
        "\n",
        "                        # Add the processed image to the list\n",
        "                        processed_band_images.append(sobel_mag)\n",
        "\n",
        "                    processed_band_images = np.stack(processed_band_images, axis=-1)\n",
        "\n",
        "                    mask_file_path = get_mask_file_path(subfolder_path)\n",
        "                    if os.path.exists(mask_file_path):\n",
        "                        mask = load_mask_file(mask_file_path).astype(np.float32)\n",
        "\n",
        "                    batch_images.append(processed_band_images)\n",
        "                    batch_masks.append(mask)\n",
        "                except NotADirectoryError:\n",
        "                    continue\n",
        "\n",
        "            yield np.stack(batch_images, axis=0), np.stack(batch_masks, axis=0)\n"
      ],
      "metadata": {
        "execution": {
          "iopub.status.busy": "2023-07-07T21:55:25.720035Z",
          "iopub.execute_input": "2023-07-07T21:55:25.720389Z",
          "iopub.status.idle": "2023-07-07T21:55:25.736998Z",
          "shell.execute_reply.started": "2023-07-07T21:55:25.720357Z",
          "shell.execute_reply": "2023-07-07T21:55:25.735887Z"
        },
        "trusted": true,
        "id": "7JWtvCDgGmb5"
      },
      "execution_count": null,
      "outputs": []
    },
    {
      "cell_type": "code",
      "source": [
        "def data_generator_random_augmented(folder_path, batch_size):\n",
        "    while True:\n",
        "        subfolders = os.listdir(folder_path)\n",
        "        np.random.shuffle(subfolders)\n",
        "        for i in range(0, len(subfolders), batch_size):\n",
        "            batch_subfolders = subfolders[i:i+batch_size]\n",
        "            batch_images = []\n",
        "            batch_masks = []\n",
        "            for subfolder in batch_subfolders:\n",
        "                try:\n",
        "                    subfolder_path = os.path.join(folder_path, subfolder)\n",
        "                    band_file_paths = get_band_file_paths(subfolder_path)\n",
        "                    if not band_file_paths:\n",
        "                        continue\n",
        "                    band_file_paths = [path for path in band_file_paths if path.endswith((\"08.npy\", \"12.npy\", \"16.npy\"))]\n",
        "                    band_images = [load_band_file(path)[..., 4] for path in band_file_paths]  # Select only the 5th image\n",
        "                    band_images = np.stack(band_images, axis=-1)\n",
        "                    band_images = (band_images - np.mean(band_images)) / np.std(band_images)  # Normalize the images\n",
        "\n",
        "                    mask_file_path = get_mask_file_path(subfolder_path)\n",
        "                    if os.path.exists(mask_file_path):\n",
        "                        mask = load_mask_file(mask_file_path).astype(np.float32)\n",
        "\n",
        "                    # Augment images and mask\n",
        "                    band_images, mask = augment(band_images, mask)\n",
        "\n",
        "                    batch_images.append(band_images)\n",
        "                    batch_masks.append(mask)\n",
        "                except NotADirectoryError:\n",
        "                    continue\n",
        "\n",
        "            yield np.stack(batch_images, axis=0), np.stack(batch_masks, axis=0)\n"
      ],
      "metadata": {
        "id": "jkiD77Sm_bbG",
        "execution": {
          "iopub.status.busy": "2023-07-07T21:55:25.740418Z",
          "iopub.execute_input": "2023-07-07T21:55:25.740980Z",
          "iopub.status.idle": "2023-07-07T21:55:25.753810Z",
          "shell.execute_reply.started": "2023-07-07T21:55:25.740953Z",
          "shell.execute_reply": "2023-07-07T21:55:25.752749Z"
        },
        "trusted": true
      },
      "execution_count": null,
      "outputs": []
    },
    {
      "cell_type": "code",
      "source": [
        "def data_generator_random(folder_path, batch_size):\n",
        "    while True:\n",
        "        subfolders = os.listdir(folder_path)\n",
        "        np.random.shuffle(subfolders)\n",
        "        for i in range(0, len(subfolders), batch_size):\n",
        "            batch_subfolders = subfolders[i:i+batch_size]\n",
        "            batch_images = []\n",
        "            batch_masks = []\n",
        "            for subfolder in batch_subfolders:\n",
        "                try:\n",
        "                    subfolder_path = os.path.join(folder_path, subfolder)\n",
        "                    band_file_paths = get_band_file_paths(subfolder_path)\n",
        "                    if not band_file_paths:\n",
        "                        continue\n",
        "                    band_file_paths = [path for path in band_file_paths if path.endswith((\"08.npy\", \"12.npy\", \"16.npy\"))]\n",
        "                    band_images = [load_band_file(path)[..., 4] for path in band_file_paths]  # Select only the 5th image\n",
        "                    band_images = np.stack(band_images, axis=-1)\n",
        "                    band_images = (band_images - np.mean(band_images)) / np.std(band_images)  # Normalize the images\n",
        "                    batch_images.append(band_images)\n",
        "\n",
        "                    mask_file_path = get_mask_file_path(subfolder_path)\n",
        "                    if os.path.exists(mask_file_path):\n",
        "                        mask = load_mask_file(mask_file_path).astype(np.float32)\n",
        "                        batch_masks.append(mask)\n",
        "                except NotADirectoryError:\n",
        "                    continue\n",
        "\n",
        "            yield np.stack(batch_images, axis=0), np.stack(batch_masks, axis=0)\n"
      ],
      "metadata": {
        "id": "gAv1aM1vb8qb",
        "execution": {
          "iopub.status.busy": "2023-07-07T21:55:25.756666Z",
          "iopub.execute_input": "2023-07-07T21:55:25.757762Z",
          "iopub.status.idle": "2023-07-07T21:55:25.769850Z",
          "shell.execute_reply.started": "2023-07-07T21:55:25.757723Z",
          "shell.execute_reply": "2023-07-07T21:55:25.768825Z"
        },
        "trusted": true
      },
      "execution_count": null,
      "outputs": []
    },
    {
      "cell_type": "markdown",
      "source": [
        "# Model set up"
      ],
      "metadata": {
        "id": "z8UMOmjcGmb7"
      }
    },
    {
      "cell_type": "code",
      "source": [
        "class CustomModelCheckpoint(tf.keras.callbacks.Callback):\n",
        "    def __init__(self, filepath, **kwargs):\n",
        "        super().__init__(**kwargs)\n",
        "        self.filepath = filepath\n",
        "\n",
        "    def on_epoch_end(self, epoch, logs=None):\n",
        "        logs = logs or {}\n",
        "        val_loss = logs.get('val_loss')\n",
        "        train_loss = logs.get('loss')\n",
        "        if val_loss is not None and train_loss is not None:\n",
        "            filepath = self.filepath.format(epoch=epoch+1, loss=train_loss, val_loss=val_loss)\n",
        "            self.model.save(filepath, overwrite=True)"
      ],
      "metadata": {
        "id": "qxkJ4t2uTNLx",
        "execution": {
          "iopub.status.busy": "2023-07-07T21:55:25.771274Z",
          "iopub.execute_input": "2023-07-07T21:55:25.771896Z",
          "iopub.status.idle": "2023-07-07T21:55:25.784932Z",
          "shell.execute_reply.started": "2023-07-07T21:55:25.771860Z",
          "shell.execute_reply": "2023-07-07T21:55:25.783899Z"
        },
        "trusted": true
      },
      "execution_count": null,
      "outputs": []
    },
    {
      "cell_type": "code",
      "source": [
        "# Create a callback for model checkpoints\n",
        "checkpoint_cb = CustomModelCheckpoint('/kaggle/working/contrails_saved_models/test_att_resunet_{epoch:03d}_{loss:.3f}_{val_loss:.3f}.h5')\n",
        "\n",
        "\n",
        "# Create a callback for early stopping\n",
        "early_stopping_cb = EarlyStopping(monitor='val_loss', patience=3, restore_best_weights=True)"
      ],
      "metadata": {
        "id": "CzQ3VJF_XAcd",
        "execution": {
          "iopub.status.busy": "2023-07-07T21:55:25.787786Z",
          "iopub.execute_input": "2023-07-07T21:55:25.788580Z",
          "iopub.status.idle": "2023-07-07T21:55:25.800962Z",
          "shell.execute_reply.started": "2023-07-07T21:55:25.788544Z",
          "shell.execute_reply": "2023-07-07T21:55:25.799915Z"
        },
        "trusted": true
      },
      "execution_count": null,
      "outputs": []
    },
    {
      "cell_type": "code",
      "source": [
        "IMG_HEIGHT = 256\n",
        "IMG_WIDTH  = 256\n",
        "IMG_CHANNELS = 3\n",
        "num_labels = 1  #Binary\n",
        "input_shape = (IMG_HEIGHT,IMG_WIDTH,IMG_CHANNELS)\n",
        "batch_size = 20"
      ],
      "metadata": {
        "id": "qrvpyWMzHvkZ",
        "execution": {
          "iopub.status.busy": "2023-07-07T21:55:34.108848Z",
          "iopub.execute_input": "2023-07-07T21:55:34.110037Z",
          "iopub.status.idle": "2023-07-07T21:55:34.116524Z",
          "shell.execute_reply.started": "2023-07-07T21:55:34.109988Z",
          "shell.execute_reply": "2023-07-07T21:55:34.115063Z"
        },
        "trusted": true
      },
      "execution_count": null,
      "outputs": []
    },
    {
      "cell_type": "markdown",
      "source": [
        "# Define metric"
      ],
      "metadata": {
        "id": "QCwxgumBytOM"
      }
    },
    {
      "cell_type": "code",
      "source": [
        "train_generator = data_generator_random_augmented(train_folder, batch_size=batch_size)\n",
        "validation_generator = data_generator_random(validation_folder, batch_size=batch_size)\n",
        "\n",
        "# train_generator = data_generator_random_preprocess(train_folder, batch_size=batch_size)\n",
        "# validation_generator = data_generator_random_preprocess(validation_folder, batch_size=batch_size)"
      ],
      "metadata": {
        "execution": {
          "iopub.status.busy": "2023-07-07T21:55:35.269788Z",
          "iopub.execute_input": "2023-07-07T21:55:35.270247Z",
          "iopub.status.idle": "2023-07-07T21:55:35.276222Z",
          "shell.execute_reply.started": "2023-07-07T21:55:35.270213Z",
          "shell.execute_reply": "2023-07-07T21:55:35.274721Z"
        },
        "trusted": true,
        "id": "MB5JOlRIGmb9"
      },
      "execution_count": null,
      "outputs": []
    },
    {
      "cell_type": "markdown",
      "source": [
        "# Create model"
      ],
      "metadata": {
        "id": "mPIelDeDyujZ"
      }
    },
    {
      "cell_type": "code",
      "source": [
        "!pip install -U -q segmentation-models\n",
        "\n",
        "import os\n",
        "os.environ[\"SM_FRAMEWORK\"] = \"tf.keras\"\n",
        "import tensorflow as tf\n",
        "tf.config.run_functions_eagerly(True)\n",
        "from tensorflow import keras\n",
        "\n",
        "import segmentation_models as sm\n"
      ],
      "metadata": {
        "id": "6EJwHJeo28JO",
        "execution": {
          "iopub.status.busy": "2023-07-07T21:55:37.168065Z",
          "iopub.execute_input": "2023-07-07T21:55:37.168825Z",
          "iopub.status.idle": "2023-07-07T21:55:51.032023Z",
          "shell.execute_reply.started": "2023-07-07T21:55:37.168789Z",
          "shell.execute_reply": "2023-07-07T21:55:51.030802Z"
        },
        "trusted": true
      },
      "execution_count": null,
      "outputs": []
    },
    {
      "cell_type": "code",
      "source": [
        "BACKBONE = 'vgg16'\n",
        "preprocess_input = sm.get_preprocessing(BACKBONE)"
      ],
      "metadata": {
        "id": "buS_uEGt3ESD",
        "execution": {
          "iopub.status.busy": "2023-07-07T21:55:51.034540Z",
          "iopub.execute_input": "2023-07-07T21:55:51.034941Z",
          "iopub.status.idle": "2023-07-07T21:55:51.040067Z",
          "shell.execute_reply.started": "2023-07-07T21:55:51.034903Z",
          "shell.execute_reply": "2023-07-07T21:55:51.038962Z"
        },
        "trusted": true
      },
      "execution_count": null,
      "outputs": []
    },
    {
      "cell_type": "code",
      "source": [
        "model = sm.Unet(BACKBONE, input_shape = input_shape,  encoder_weights='imagenet')"
      ],
      "metadata": {
        "id": "7stTK2gS3P4x",
        "execution": {
          "iopub.status.busy": "2023-07-07T21:55:51.041961Z",
          "iopub.execute_input": "2023-07-07T21:55:51.042715Z",
          "iopub.status.idle": "2023-07-07T21:55:56.509154Z",
          "shell.execute_reply.started": "2023-07-07T21:55:51.042660Z",
          "shell.execute_reply": "2023-07-07T21:55:56.508073Z"
        },
        "trusted": true
      },
      "execution_count": null,
      "outputs": []
    },
    {
      "cell_type": "code",
      "source": [
        "optimizer_adam = Adam(learning_rate=1e-3)\n",
        "model.compile(\n",
        "    optimizer_adam,\n",
        "    loss=dice_coef_loss,\n",
        "    metrics=['accuracy',jacard_coef]\n",
        ")"
      ],
      "metadata": {
        "id": "bjJ24FcP7XLs",
        "execution": {
          "iopub.status.busy": "2023-07-07T21:55:56.511646Z",
          "iopub.execute_input": "2023-07-07T21:55:56.512021Z",
          "iopub.status.idle": "2023-07-07T21:55:56.534616Z",
          "shell.execute_reply.started": "2023-07-07T21:55:56.511989Z",
          "shell.execute_reply": "2023-07-07T21:55:56.533669Z"
        },
        "trusted": true
      },
      "execution_count": null,
      "outputs": []
    },
    {
      "cell_type": "markdown",
      "source": [
        "# Run Model"
      ],
      "metadata": {
        "id": "25G1Hz_BGmb-"
      }
    },
    {
      "cell_type": "code",
      "source": [
        "history = model.fit(train_generator,\n",
        "                    validation_data=validation_generator,\n",
        "                    verbose=1,\n",
        "                    batch_size = batch_size,\n",
        "                    shuffle=False,\n",
        "                    epochs=6,\n",
        "                    steps_per_epoch=1000 ,\n",
        "                    validation_steps=90,\n",
        "                    callbacks=[checkpoint_cb, early_stopping_cb])"
      ],
      "metadata": {
        "id": "ebnD6KNoHoXG",
        "execution": {
          "iopub.status.busy": "2023-07-07T21:55:56.559584Z",
          "iopub.execute_input": "2023-07-07T21:55:56.559982Z",
          "iopub.status.idle": "2023-07-08T00:51:43.165627Z",
          "shell.execute_reply.started": "2023-07-07T21:55:56.559948Z",
          "shell.execute_reply": "2023-07-08T00:51:43.162593Z"
        },
        "trusted": true
      },
      "execution_count": null,
      "outputs": []
    },
    {
      "cell_type": "markdown",
      "source": [
        "# Display Results"
      ],
      "metadata": {
        "id": "8lq8cPUCGmb_"
      }
    },
    {
      "cell_type": "code",
      "source": [
        "import matplotlib.pyplot as plt\n",
        "\n",
        "# Create a function to visualize the masks\n",
        "def visualize(**images):\n",
        "    n = len(images)\n",
        "    plt.figure(figsize=(16, 5))\n",
        "    for i, (name, image) in enumerate(images.items()):\n",
        "        plt.subplot(1, n, i + 1)\n",
        "        plt.xticks([])\n",
        "        plt.yticks([])\n",
        "        plt.title(' '.join(name.split('_')).title())\n",
        "        plt.imshow(image)\n",
        "    plt.show()\n",
        "\n",
        "# Choose a batch from the validation set\n",
        "for i, (images, true_masks) in enumerate(validation_generator):\n",
        "    if i > 5:  # Only visualize the first 5 batches\n",
        "        break\n",
        "\n",
        "    # Predict the masks\n",
        "    pred_masks = model.predict(images)\n",
        "\n",
        "    # Since the model's output is in the sigmoid domain, you need to convert it to binary\n",
        "    pred_masks_t = (pred_masks > 0.5).astype(np.uint8)\n",
        "\n",
        "    # Display the images, true masks, and predicted masks\n",
        "    for image, true_mask, pred_mask in zip(images, true_masks, pred_masks_t):\n",
        "        visualize(Image=image, True_Mask=true_mask[..., 0], Predicted_Mask=pred_mask[..., 0])\n"
      ],
      "metadata": {
        "id": "EKb_K4LC_EA6",
        "trusted": true
      },
      "execution_count": null,
      "outputs": []
    },
    {
      "cell_type": "markdown",
      "source": [
        "# Dataset EDA"
      ],
      "metadata": {
        "id": "QfwM6feJSNkr"
      }
    },
    {
      "cell_type": "code",
      "source": [
        "train_folder = '/kaggle/input/google-research-identify-contrails-reduce-global-warming/train'\n",
        "validation_folder = '/kaggle/input/google-research-identify-contrails-reduce-global-warming/validation'\n",
        "test_folder = '/kaggle/input/google-research-identify-contrails-reduce-global-warming/test'"
      ],
      "metadata": {
        "id": "tlW5bai8TAvm"
      },
      "execution_count": null,
      "outputs": []
    },
    {
      "cell_type": "code",
      "source": [
        "import os\n",
        "import numpy as np\n",
        "\n",
        "def count_ones_in_masks(folder_path):\n",
        "    subfolders = os.listdir(folder_path)\n",
        "    less_than_ten = 0\n",
        "    total_folders = 0\n",
        "    for subfolder in subfolders:\n",
        "        try:\n",
        "            subfolder_path = os.path.join(folder_path, subfolder)\n",
        "\n",
        "            mask_file_path = os.path.join(subfolder_path, 'human_pixel_masks.npy')\n",
        "            if os.path.exists(mask_file_path):\n",
        "                total_folders += 1\n",
        "                mask = np.load(mask_file_path)\n",
        "                if np.sum(mask) < 10:  # count the number of ones in the mask\n",
        "                    less_than_ten += 1\n",
        "        except NotADirectoryError:\n",
        "            continue\n",
        "\n",
        "    if total_folders > 0:\n",
        "        proportion = less_than_ten / total_folders\n",
        "    else:\n",
        "        proportion = 0\n",
        "\n",
        "    return proportion\n",
        "validation_folder = '/kaggle/input/google-research-identify-contrails-reduce-global-warming/validation'\n",
        "print(\"Proportion of folders with less than ten 1s in the mask files:\", count_ones_in_masks(validation_folder))"
      ],
      "metadata": {
        "execution": {
          "iopub.status.busy": "2023-07-08T11:00:12.475586Z",
          "iopub.execute_input": "2023-07-08T11:00:12.475963Z",
          "iopub.status.idle": "2023-07-08T11:00:26.212504Z",
          "shell.execute_reply.started": "2023-07-08T11:00:12.475934Z",
          "shell.execute_reply": "2023-07-08T11:00:26.211512Z"
        },
        "trusted": true,
        "id": "N5kS5-AfGmcB"
      },
      "execution_count": null,
      "outputs": []
    },
    {
      "cell_type": "code",
      "source": [
        "train_folder = '/kaggle/input/google-research-identify-contrails-reduce-global-warming/train'\n",
        "print(\"Proportion of folders with less than ten 1s in the mask files:\", count_ones_in_masks(train_folder))"
      ],
      "metadata": {
        "execution": {
          "iopub.status.busy": "2023-07-08T11:02:17.020307Z",
          "iopub.execute_input": "2023-07-08T11:02:17.021344Z",
          "iopub.status.idle": "2023-07-08T11:04:25.316628Z",
          "shell.execute_reply.started": "2023-07-08T11:02:17.021308Z",
          "shell.execute_reply": "2023-07-08T11:04:25.315520Z"
        },
        "trusted": true,
        "id": "bDpAdgDaGmcB"
      },
      "execution_count": null,
      "outputs": []
    },
    {
      "cell_type": "code",
      "source": [
        "! find /kaggle/input/google-research-identify-contrails-reduce-global-warming/validation -mindepth 1 -type d | wc -l"
      ],
      "metadata": {
        "execution": {
          "iopub.status.busy": "2023-07-08T11:14:30.389643Z",
          "iopub.execute_input": "2023-07-08T11:14:30.389995Z",
          "iopub.status.idle": "2023-07-08T11:14:42.108706Z",
          "shell.execute_reply.started": "2023-07-08T11:14:30.389966Z",
          "shell.execute_reply": "2023-07-08T11:14:42.107377Z"
        },
        "trusted": true,
        "id": "4Z56cMjjGmcB"
      },
      "execution_count": null,
      "outputs": []
    },
    {
      "cell_type": "code",
      "source": [
        "! find /kaggle/input/google-research-identify-contrails-reduce-global-warming/train -mindepth 1 -type d | wc -l"
      ],
      "metadata": {
        "execution": {
          "iopub.status.busy": "2023-07-08T11:14:56.581635Z",
          "iopub.execute_input": "2023-07-08T11:14:56.582032Z",
          "iopub.status.idle": "2023-07-08T11:16:58.678683Z",
          "shell.execute_reply.started": "2023-07-08T11:14:56.582000Z",
          "shell.execute_reply": "2023-07-08T11:16:58.677422Z"
        },
        "trusted": true,
        "id": "qUkyjrDlGmcC"
      },
      "execution_count": null,
      "outputs": []
    },
    {
      "cell_type": "code",
      "source": [
        "! ls /kaggle/input/google-research-identify-contrails-reduce-global-warming/validation/6406117761842360513"
      ],
      "metadata": {
        "execution": {
          "iopub.status.busy": "2023-07-08T11:59:12.930219Z",
          "iopub.execute_input": "2023-07-08T11:59:12.930623Z",
          "iopub.status.idle": "2023-07-08T11:59:13.936001Z",
          "shell.execute_reply.started": "2023-07-08T11:59:12.930590Z",
          "shell.execute_reply": "2023-07-08T11:59:13.934470Z"
        },
        "trusted": true,
        "id": "LXZTbm8TGmcC"
      },
      "execution_count": null,
      "outputs": []
    },
    {
      "cell_type": "code",
      "source": [
        "! ls /kaggle/input/google-research-identify-contrails-reduce-global-warming/train/6547735628981251995"
      ],
      "metadata": {
        "execution": {
          "iopub.status.busy": "2023-07-08T11:59:51.816707Z",
          "iopub.execute_input": "2023-07-08T11:59:51.817137Z",
          "iopub.status.idle": "2023-07-08T11:59:52.885173Z",
          "shell.execute_reply.started": "2023-07-08T11:59:51.817101Z",
          "shell.execute_reply": "2023-07-08T11:59:52.883982Z"
        },
        "trusted": true,
        "id": "2qJz16WyGmcC"
      },
      "execution_count": null,
      "outputs": []
    }
  ]
}